{
 "cells": [
  {
   "cell_type": "markdown",
   "id": "bad4bbfe-27b2-494c-94e7-0fa62830f26c",
   "metadata": {},
   "source": [
    "Data Preparation and Preprocessing\n",
    "- Loaded Datasets: We successfully loaded three main datasets: top 100 games by genre, top 100 games, and top 100 streamers.\n",
    "- Data Cleaning: We handled missing values in the datasets, particularly in the top_streamers_100 dataset for the title and tags columns.\n",
    "- Data Conversion: We converted string representations of lists into actual lists (for genres and tags) and parsed dates appropriately."
   ]
  },
  {
   "cell_type": "code",
   "execution_count": 2,
   "id": "31d7ffb1-1e18-4b94-aa6c-57032b648d95",
   "metadata": {},
   "outputs": [
    {
     "name": "stdout",
     "output_type": "stream",
     "text": [
      "Top 100 Games by Genre:\n",
      "            game_name                                              genre\n",
      "0       Just Chatting                ['Indie', 'Simulator', 'Adventure']\n",
      "1   League of Legends         ['Role-playing (RPG)', 'Strategy', 'MOBA']\n",
      "2  Grand Theft Auto V  ['Shooter', 'Role-playing (RPG)', 'Adventure',...\n",
      "3            Fortnite                                        ['Shooter']\n",
      "4              Sports                                          ['Sport']\n",
      "\n",
      "Top 100 Games:\n",
      "       id                name  \\\n",
      "0  509658       Just Chatting   \n",
      "1   21779   League of Legends   \n",
      "2   32982  Grand Theft Auto V   \n",
      "3   33214            Fortnite   \n",
      "4  518203              Sports   \n",
      "\n",
      "                                         box_art_url  \n",
      "0  https://static-cdn.jtvnw.net/ttv-boxart/509658...  \n",
      "1  https://static-cdn.jtvnw.net/ttv-boxart/21779-...  \n",
      "2  https://static-cdn.jtvnw.net/ttv-boxart/32982_...  \n",
      "3  https://static-cdn.jtvnw.net/ttv-boxart/33214-...  \n",
      "4  https://static-cdn.jtvnw.net/ttv-boxart/518203...  \n",
      "\n",
      "Top 100 Streamers:\n",
      "   game_id           id language            started_at  \\\n",
      "0   509658  42534391433       de  2024-04-20T16:57:28Z   \n",
      "1   509658  44061134123       en  2024-04-20T18:07:13Z   \n",
      "2   509658  40563395317       ru  2024-04-20T16:02:14Z   \n",
      "3   509658  40562203973       ru  2024-04-20T09:38:14Z   \n",
      "4   509658  50924800765       en  2024-04-20T18:02:30Z   \n",
      "\n",
      "                                               title  type    user_id  \\\n",
      "0                                FINALE IM E DATE ❤️  live  135177864   \n",
      "1  UAW W! SQUATTING PHENOMENA? PEACHJARS COMES OV...  live  207813352   \n",
      "2                                        ВИДОСИКИ WW  live   99899949   \n",
      "3                   ДОМАШНИЙ СИЛЬВЕР. ✅ДЕНЬ 1 !domru  live   70075625   \n",
      "4  MASTER BAKER Episode 4: Tiramisu ft. @caroline...  live  247808909   \n",
      "\n",
      "       user_name  viewer_count     user_login      game_name  \\\n",
      "0    SidneyEweka         21197    sidneyeweka  Just Chatting   \n",
      "1       HasanAbi         15674       hasanabi  Just Chatting   \n",
      "2  bratishkinoff         15417  bratishkinoff  Just Chatting   \n",
      "3     SilverName         12090     silvername  Just Chatting   \n",
      "4   QTCinderella         11682   qtcinderella  Just Chatting   \n",
      "\n",
      "                                                tags  is_mature  \n",
      "0                                        ['Deutsch']      False  \n",
      "1            ['news', 'politics', 'adhd', 'English']      False  \n",
      "2  ['Русский', 'братишкин', 'смотрит', 'bratishki...       True  \n",
      "3                            ['Русский', 'Hardcore']      False  \n",
      "4                                        ['English']      False  \n"
     ]
    }
   ],
   "source": [
    "import pandas as pd\n",
    "\n",
    "# Load the datasets\n",
    "top_100_games_genre = pd.read_csv(\"C:/Users/ATAISH NEHRA/Downloads/top_100_games_genre.csv\")\n",
    "top_games_100 = pd.read_csv(\"C:/Users/ATAISH NEHRA/Downloads/top_games_100.csv\")\n",
    "top_streamers_100 = pd.read_csv(\"C:/Users/ATAISH NEHRA/Downloads/top_streamers_100.csv\")\n",
    "\n",
    "# Display the first few rows of each dataset\n",
    "print(\"Top 100 Games by Genre:\")\n",
    "print(top_100_games_genre.head())\n",
    "print(\"\\nTop 100 Games:\")\n",
    "print(top_games_100.head())\n",
    "print(\"\\nTop 100 Streamers:\")\n",
    "print(top_streamers_100.head())"
   ]
  },
  {
   "cell_type": "code",
   "execution_count": 3,
   "id": "7d0bf627-d2e3-4fbb-8ac2-f8e8024563af",
   "metadata": {},
   "outputs": [
    {
     "name": "stdout",
     "output_type": "stream",
     "text": [
      "Missing values in Top 100 Games by Genre:\n",
      "game_name    0\n",
      "genre        0\n",
      "dtype: int64\n",
      "\n",
      "Missing values in Top 100 Games:\n",
      "id             0\n",
      "name           0\n",
      "box_art_url    0\n",
      "dtype: int64\n",
      "\n",
      "Missing values in Top 100 Streamers:\n",
      "game_id          0\n",
      "id               0\n",
      "language         0\n",
      "started_at       0\n",
      "title           11\n",
      "type             0\n",
      "user_id          0\n",
      "user_name        0\n",
      "viewer_count     0\n",
      "user_login       0\n",
      "game_name        0\n",
      "tags            10\n",
      "is_mature        0\n",
      "dtype: int64\n"
     ]
    }
   ],
   "source": [
    "import pandas as pd\n",
    "\n",
    "# Convert 'genre' from string to list\n",
    "top_100_games_genre['genre'] = top_100_games_genre['genre'].apply(eval)\n",
    "\n",
    "# Convert 'started_at' to datetime\n",
    "top_streamers_100['started_at'] = pd.to_datetime(top_streamers_100['started_at'])\n",
    "\n",
    "# Check for missing values\n",
    "print(\"Missing values in Top 100 Games by Genre:\")\n",
    "print(top_100_games_genre.isnull().sum())\n",
    "print(\"\\nMissing values in Top 100 Games:\")\n",
    "print(top_games_100.isnull().sum())\n",
    "print(\"\\nMissing values in Top 100 Streamers:\")\n",
    "print(top_streamers_100.isnull().sum())"
   ]
  },
  {
   "cell_type": "code",
   "execution_count": 4,
   "id": "1d7b9de7-b732-48c8-af4a-606bd90cff14",
   "metadata": {},
   "outputs": [
    {
     "name": "stdout",
     "output_type": "stream",
     "text": [
      "After handling missing values:\n",
      "title    0\n",
      "tags     0\n",
      "dtype: int64\n"
     ]
    }
   ],
   "source": [
    "# Fill missing 'title' with a placeholder\n",
    "top_streamers_100['title'].fillna('No Title Available', inplace=True)\n",
    "\n",
    "# Fill missing 'tags' with an empty list\n",
    "top_streamers_100['tags'] = top_streamers_100['tags'].apply(lambda x: x if pd.notna(x) else [])\n",
    "\n",
    "# Verify the changes\n",
    "print(\"After handling missing values:\")\n",
    "print(top_streamers_100[['title', 'tags']].isnull().sum())"
   ]
  },
  {
   "cell_type": "markdown",
   "id": "998173a4-f86b-45b9-87c8-cf90f3e4baa2",
   "metadata": {},
   "source": [
    "Clustering:</br>\n",
    "- K-means Clustering:\n",
    "Applied K-means to cluster streamers based on viewer_count.</br>\n",
    "Determined the optimal number of clusters using the Elbow Method.</br>\n",
    "Result: Clustering primarily grouped top streamers into one cluster, indicating a possible need for more feature diversity.</br>\n",
    "- Gaussian Mixture Model (GMM):\n",
    "Applied GMM which also primarily grouped top streamers into one dominant cluster. </br>\n",
    "Multi-Feature Clustering:</br>\n",
    "Incorporated additional features (language, game_id, is_mature) and used TruncatedSVD for dimensionality reduction to better manage feature space.</br>\n",
    "Refined clustering approach to include these multiple features."
   ]
  },
  {
   "cell_type": "code",
   "execution_count": 5,
   "id": "293b2a21-bc43-42d4-bdde-a04a06fcbfb9",
   "metadata": {},
   "outputs": [
    {
     "data": {
      "image/png": "[encoded data removed]",
      "text/plain": [
       "<Figure size 720x360 with 1 Axes>"
      ]
     },
     "metadata": {
      "needs_background": "light"
     },
     "output_type": "display_data"
    }
   ],
   "source": [
    "from sklearn.cluster import KMeans\n",
    "import matplotlib.pyplot as plt\n",
    "\n",
    "# Extracting the viewer counts\n",
    "X = top_streamers_100[['viewer_count']].values\n",
    "\n",
    "# Calculating WCSS (Within-Cluster Sum of Square)\n",
    "wcss = []\n",
    "for i in range(1, 11):\n",
    "    kmeans = KMeans(n_clusters=i, init='k-means++', max_iter=300, n_init=10, random_state=42)\n",
    "    kmeans.fit(X)\n",
    "    wcss.append(kmeans.inertia_)\n",
    "\n",
    "# Plotting the Elbow Graph\n",
    "plt.figure(figsize=(10, 5))\n",
    "plt.plot(range(1, 11), wcss)\n",
    "plt.title('Elbow Method')\n",
    "plt.xlabel('Number of clusters')\n",
    "plt.ylabel('WCSS')\n",
    "plt.show()"
   ]
  },
  {
   "cell_type": "code",
   "execution_count": 6,
   "id": "74c1dfda-fa8a-42b4-b89e-1e81762045cd",
   "metadata": {},
   "outputs": [
    {
     "name": "stdout",
     "output_type": "stream",
     "text": [
      "       user_name  viewer_count  viewer_count_cluster\n",
      "0    SidneyEweka         21197                     2\n",
      "1       HasanAbi         15674                     2\n",
      "2  bratishkinoff         15417                     2\n",
      "3     SilverName         12090                     2\n",
      "4   QTCinderella         11682                     2\n"
     ]
    }
   ],
   "source": [
    "# Applying K-means with the optimal number of clusters\n",
    "optimal_clusters = 3\n",
    "kmeans = KMeans(n_clusters=optimal_clusters, init='k-means++', max_iter=300, n_init=10, random_state=42)\n",
    "top_streamers_100['viewer_count_cluster'] = kmeans.fit_predict(X)\n",
    "\n",
    "# Check the first few entries with their cluster labels\n",
    "print(top_streamers_100[['user_name', 'viewer_count', 'viewer_count_cluster']].head())"
   ]
  },
  {
   "cell_type": "code",
   "execution_count": 7,
   "id": "d15c5f7f-2039-48ce-8e89-d67de07b2474",
   "metadata": {},
   "outputs": [
    {
     "name": "stdout",
     "output_type": "stream",
     "text": [
      "       user_name  viewer_count  viewer_count_gmm_cluster\n",
      "0    SidneyEweka         21197                         1\n",
      "1       HasanAbi         15674                         1\n",
      "2  bratishkinoff         15417                         1\n",
      "3     SilverName         12090                         1\n",
      "4   QTCinderella         11682                         1\n"
     ]
    }
   ],
   "source": [
    "from sklearn.mixture import GaussianMixture\n",
    "\n",
    "# Applying Gaussian Mixture Model\n",
    "gmm = GaussianMixture(n_components=optimal_clusters, random_state=42)\n",
    "top_streamers_100['viewer_count_gmm_cluster'] = gmm.fit_predict(X)\n",
    "\n",
    "# Check the first few entries with their GMM cluster labels\n",
    "print(top_streamers_100[['user_name', 'viewer_count', 'viewer_count_gmm_cluster']].head())"
   ]
  },
  {
   "cell_type": "code",
   "execution_count": 9,
   "id": "729e83d3-be87-404c-8d3a-79fc47d5416f",
   "metadata": {},
   "outputs": [
    {
     "name": "stdout",
     "output_type": "stream",
     "text": [
      "SVD has reduced the data to 100 dimensions.\n",
      "       user_name  viewer_count  svd_kmeans_cluster\n",
      "0    SidneyEweka         21197                   0\n",
      "1       HasanAbi         15674                   1\n",
      "2  bratishkinoff         15417                   2\n",
      "3     SilverName         12090                   1\n",
      "4   QTCinderella         11682                   1\n"
     ]
    }
   ],
   "source": [
    "from sklearn.decomposition import TruncatedSVD\n",
    "\n",
    "# Initialize TruncatedSVD\n",
    "svd = TruncatedSVD(n_components=100)  # We specify the number of components, you may need to adjust this number\n",
    "\n",
    "# Fit and transform the preprocessed data\n",
    "X_svd = svd.fit_transform(X_preprocessed)\n",
    "\n",
    "# Check how many components SVD has chosen after fitting\n",
    "print(f\"SVD has reduced the data to {X_svd.shape[1]} dimensions.\")\n",
    "\n",
    "# Now, we can cluster the SVD-transformed data using KMeans as before\n",
    "kmeans_svd = KMeans(n_clusters=optimal_clusters, init='k-means++', max_iter=300, n_init=10, random_state=42)\n",
    "top_streamers_100['svd_kmeans_cluster'] = kmeans_svd.fit_predict(X_svd)\n",
    "\n",
    "# Display the first few entries with their new cluster labels\n",
    "print(top_streamers_100[['user_name', 'viewer_count', 'svd_kmeans_cluster']].head())"
   ]
  },
  {
   "cell_type": "markdown",
   "id": "c7f537ad-2c69-4d4e-9395-f97cf16c5805",
   "metadata": {},
   "source": [
    "Recommendation Systems:</br>\n",
    "- Content-Based Recommender for Games:</br>\n",
    "Built using game genres to recommend similar games. This was successfully tested with the game \"Minecraft\" and provided relevant game recommendations.</br>\n",
    "- Streamer Recommendations Based on Combined Features:</br>\n",
    "Combined game names and tags for a content-based approach to recommend streamers.</br>\n",
    "Successfully implemented despite initial challenges with data parsing.</br>"
   ]
  },
  {
   "cell_type": "code",
   "execution_count": 18,
   "id": "eb30c31a-e5b6-4b6e-9f89-2c44cda30454",
   "metadata": {},
   "outputs": [
    {
     "name": "stdout",
     "output_type": "stream",
     "text": [
      "56                  Sea of Thieves\n",
      "0                    Just Chatting\n",
      "80                        TEKKEN 8\n",
      "78                    Star Citizen\n",
      "9                  EA Sports FC 24\n",
      "10               Gray Zone Warfare\n",
      "36                           Noita\n",
      "60              Sketchy's Contract\n",
      "66    Midnight Monitor: Aldercourt\n",
      "70                    StarCraft II\n",
      "Name: game_name, dtype: object\n"
     ]
    }
   ],
   "source": [
    "from sklearn.metrics.pairwise import cosine_similarity\n",
    "from sklearn.feature_extraction.text import CountVectorizer\n",
    "\n",
    "# Considering only the genre column for simplicity\n",
    "top_100_games_genre['genres_joined'] = top_100_games_genre['genre'].apply(lambda x: ' '.join(x))\n",
    "\n",
    "# Creating the count matrix\n",
    "count = CountVectorizer()\n",
    "count_matrix = count.fit_transform(top_100_games_genre['genres_joined'])\n",
    "\n",
    "# Computing the Cosine Similarity matrix based on the count_matrix\n",
    "cosine_sim = cosine_similarity(count_matrix, count_matrix)\n",
    "\n",
    "# Function that takes in game title as input and outputs most similar games\n",
    "def get_recommendations(title, cosine_sim=cosine_sim):\n",
    "    # Get the index of the game that matches the title\n",
    "    idx = top_100_games_genre.index[top_100_games_genre['game_name'] == title].tolist()[0]\n",
    "\n",
    "    # Get the pairwsie similarity scores of all games with that game\n",
    "    sim_scores = list(enumerate(cosine_sim[idx]))\n",
    "\n",
    "    # Sort the games based on the similarity scores\n",
    "    sim_scores = sorted(sim_scores, key=lambda x: x[1], reverse=True)\n",
    "\n",
    "    # Get the scores of the 10 most similar games\n",
    "    sim_scores = sim_scores[1:11]\n",
    "\n",
    "    # Get the game indices\n",
    "    game_indices = [i[0] for i in sim_scores]\n",
    "\n",
    "    # Return the top 10 most similar games\n",
    "    return top_100_games_genre['game_name'].iloc[game_indices]\n",
    "\n",
    "# Test the system with an example game\n",
    "recommendations = get_recommendations('Minecraft')\n",
    "print(recommendations)"
   ]
  },
  {
   "cell_type": "code",
   "execution_count": 14,
   "id": "656bec97-1da6-45a8-b0c2-2a78f98ea4f6",
   "metadata": {},
   "outputs": [],
   "source": [
    "import ast\n",
    "import pandas as pd\n",
    "\n",
    "# Define a function to safely parse strings into lists\n",
    "def safe_literal_eval(s):\n",
    "    try:\n",
    "        # Attempt to evaluate normally\n",
    "        return ast.literal_eval(s)\n",
    "    except ValueError:\n",
    "        # Return an empty list if there's a ValueError\n",
    "        return []\n",
    "\n",
    "# Apply the safe parsing function to the tags column\n",
    "top_streamers_100['tags'] = top_streamers_100['tags'].apply(safe_literal_eval)\n",
    "\n",
    "# Now continue with your feature engineering and model building\n",
    "# For example, creating combined features\n",
    "top_streamers_100['combined_features'] = top_streamers_100.apply(lambda row: ' '.join([row['game_name']] + row['tags']), axis=1)\n",
    "\n",
    "# Assuming you continue with vectorization and similarity calculations as previously outlined\n",
    "from sklearn.feature_extraction.text import CountVectorizer\n",
    "from sklearn.metrics.pairwise import cosine_similarity"
   ]
  },
  {
   "cell_type": "code",
   "execution_count": 15,
   "id": "51971960-73f3-450e-bacb-7b3bf69c584a",
   "metadata": {},
   "outputs": [],
   "source": [
    "# Create the CountVectorizer instance using combined features\n",
    "count = CountVectorizer()\n",
    "count_matrix_streamers = count.fit_transform(top_streamers_100['combined_features'])\n",
    "\n",
    "# Computing the Cosine Similarity matrix\n",
    "cosine_sim_streamers = cosine_similarity(count_matrix_streamers, count_matrix_streamers)\n",
    "\n",
    "# Define a function to get recommendations based on combined features\n",
    "def get_streamer_recommendations(game_title, top_n=5):\n",
    "    # Get the index of the game that matches the title\n",
    "    game_idx = top_100_games_genre.index[top_100_games_genre['game_name'] == game_title].tolist()[0]\n",
    "\n",
    "    # Get the indices of the streamers who stream this game\n",
    "    streamer_indices = top_streamers_100.index[top_streamers_100['game_name'] == game_title].tolist()\n",
    "\n",
    "    # Get the pairwise similarity scores of all streamers who stream this game\n",
    "    sim_scores = [(i, cosine_sim_streamers[game_idx][i]) for i in streamer_indices]\n",
    "\n",
    "    # Sort the streamers based on the similarity scores\n",
    "    sim_scores = sorted(sim_scores, key=lambda x: x[1], reverse=True)\n",
    "\n",
    "    # Get the scores of the top N similar streamers\n",
    "    sim_scores = sim_scores[:top_n]\n",
    "\n",
    "    # Get the streamer indices\n",
    "    streamer_indices = [i[0] for i in sim_scores]\n",
    "\n",
    "    # Return the top N most similar streamers\n",
    "    return top_streamers_100['user_name'].iloc[streamer_indices]"
   ]
  },
  {
   "cell_type": "code",
   "execution_count": 19,
   "id": "4f020504-159a-43b2-899e-12f41ce39bd1",
   "metadata": {},
   "outputs": [
    {
     "name": "stdout",
     "output_type": "stream",
     "text": [
      "1249    TrymacsKaktusKoenig\n",
      "1198               Fuxelbau\n",
      "1207                   Clym\n",
      "1227                 xyzoom\n",
      "1239        SyntaxOfficial_\n",
      "Name: user_name, dtype: object\n"
     ]
    }
   ],
   "source": [
    "# Test the system with an example game\n",
    "streamer_recommendations = get_streamer_recommendations('Minecraft')\n",
    "print(streamer_recommendations)"
   ]
  },
  {
   "cell_type": "markdown",
   "id": "8fe7f014-989e-4cc6-8fcd-52ec23a53006",
   "metadata": {},
   "source": [
    "Evaluation Metrics:</br>\n",
    "- Implemented Evaluation Metrics:</br>\n",
    "- Calculated NDCG, MAP@K, and Recall@K for the recommender systems to evaluate the ranking and relevance of recommended items.</br>\n",
    "- Results indicated good precision but suggested potential for improvement in ranking effectiveness.</br>"
   ]
  },
  {
   "cell_type": "code",
   "execution_count": 17,
   "id": "e64ec55f-bfbb-4b7d-a360-d6cfb9d50122",
   "metadata": {},
   "outputs": [
    {
     "name": "stdout",
     "output_type": "stream",
     "text": [
      "NDCG@3: 0.42447022927816375\n",
      "MAP@K: 1.0\n",
      "Recall@3: 0.6\n"
     ]
    }
   ],
   "source": [
    "import numpy as np\n",
    "\n",
    "def dcg_at_k(r, k, method=1):\n",
    "    \"\"\"Discounted cumulative gain at rank K.\"\"\"\n",
    "    r = np.asfarray(r)[:k]\n",
    "    if r.size:\n",
    "        if method == 0:\n",
    "            return r[0] + np.sum(r[1:] / np.log2(np.arange(2, r.size + 1)))\n",
    "        elif method == 1:\n",
    "            return np.sum(r / np.log2(np.arange(2, r.size + 2)))\n",
    "    return 0.\n",
    "\n",
    "def ndcg_at_k(r, k, method=1):\n",
    "    \"\"\"Normalized discounted cumulative gain at rank K.\"\"\"\n",
    "    dcg_max = dcg_at_k(sorted(r, reverse=True), k, method)\n",
    "    if not dcg_max:\n",
    "        return 0.\n",
    "    return dcg_at_k(r, k, method) / dcg_max\n",
    "\n",
    "def precision_at_k(r, k):\n",
    "    \"\"\"Precision at rank K.\"\"\"\n",
    "    assert k >= 1\n",
    "    r = np.asarray(r)[:k] != 0\n",
    "    return np.mean(r)\n",
    "\n",
    "def average_precision(r):\n",
    "    \"\"\"Average precision (AP).\"\"\"\n",
    "    r = np.asarray(r) != 0\n",
    "    out = [precision_at_k(r, k + 1) for k in range(r.size) if r[k]]\n",
    "    if not out:\n",
    "        return 0.\n",
    "    return np.mean(out)\n",
    "\n",
    "def mean_average_precision(rs):\n",
    "    \"\"\"Mean average precision for a list of lists of recommendations.\"\"\"\n",
    "    return np.mean([average_precision(r) for r in rs])\n",
    "\n",
    "def recall_at_k(r, k, relevant_items):\n",
    "    \"\"\"Recall at rank K.\"\"\"\n",
    "    r = np.asfarray(r)[:k]\n",
    "    return np.sum(r) / relevant_items\n",
    "\n",
    "# Example usage:\n",
    "# Let's assume we have relevance scores (e.g., cosine similarity scores or any continuous relevance measure)\n",
    "relevance_scores = [0.2, 0.3, 0.7, 1.0, 0.6]  # hypothetically assigned relevance scores for top-5 recommendations\n",
    "print(\"NDCG@3:\", ndcg_at_k(relevance_scores, 3))\n",
    "print(\"MAP@K:\", mean_average_precision([relevance_scores]))  # assuming one user\n",
    "print(\"Recall@3:\", recall_at_k(relevance_scores, 3, 2))  # assuming 2 items are truly relevant"
   ]
  },
  {
   "cell_type": "markdown",
   "id": "c9eecc9f-9626-43c4-a4f2-2b1f00627187",
   "metadata": {},
   "source": [
    "Challenges and Resolutions:</br>\n",
    "- Data Parsing Issues: Encountered and resolved issues with parsing empty lists and malformed strings in the tags column using a safe parsing function.</br>\n",
    "- Sparse Matrix Handling: Addressed issues related to PCA not supporting sparse input by switching to TruncatedSVD.</br>"
   ]
  },
  {
   "cell_type": "markdown",
   "id": "83eba739-23b2-4413-9fba-c87a3ce04194",
   "metadata": {},
   "source": [
    "Overall Insights and Recommendations:</br>\n",
    "- The clustering and recommendation systems are functional but could benefit from incorporating more diverse and nuanced features.</br>\n",
    "- Evaluation metrics suggest that while the systems are recommending relevant items, the ordering could be optimized further for better user satisfaction.</br>\n",
    "- Additional data, especially regarding user preferences or behaviors, could significantly enhance the capability of the recommender systems.</br>"
   ]
  },
  {
   "cell_type": "markdown",
   "id": "11ac6046-f8ca-43a8-b498-89518b732876",
   "metadata": {},
   "source": [
    "# Dynamically computing the cosine similarity scores to automate the calculation of relevance scores using the genre information from our dataset and compute the evaluation metrics directly."
   ]
  },
  {
   "cell_type": "markdown",
   "id": "1936e2c0-7f06-4439-97c8-0b907dd6e95a",
   "metadata": {},
   "source": [
    "We can create a function that generalizes this process for any game from our \"top_100_games_genre.csv\". Here's a complete and self-contained Python code snippet that leverages our dataset to dynamically compute the cosine similarity scores and then evaluate those scores:"
   ]
  },
  {
   "cell_type": "markdown",
   "id": "b5ebfacb-4061-44c6-8e3b-8b4ddd7e26e4",
   "metadata": {},
   "source": [
    "To automate the determination of the true_relevants parameter, which estimates how many items should ideally be considered relevant for a given game, we can implement a method based on the degree of genre overlap. We'll measure the average similarity scores across all games and set a threshold to decide how many games are considered relevant based on their similarity scores exceeding this threshold. This approach aims to dynamically adjust true_relevants based on the data itself."
   ]
  },
  {
   "cell_type": "code",
   "execution_count": 25,
   "id": "91b4b92e-0be9-4bbc-bc39-8baf8c51d70e",
   "metadata": {},
   "outputs": [],
   "source": [
    "import pandas as pd\n",
    "import numpy as np\n",
    "import ast\n",
    "from sklearn.feature_extraction.text import CountVectorizer\n",
    "from sklearn.metrics.pairwise import cosine_similarity\n",
    "\n",
    "\n",
    "# Function to safely parse genre data\n",
    "def safe_parse_genres(genre_data):\n",
    "    if isinstance(genre_data, list):\n",
    "        return genre_data  # return as is if it's already a list\n",
    "    try:\n",
    "        # Attempt to parse it as a list formatted as a string\n",
    "        return ast.literal_eval(genre_data)\n",
    "    except (ValueError, SyntaxError):\n",
    "        # If it fails, handle or split the string manually (fallback)\n",
    "        return genre_data.strip(\"[]\").replace(\"'\", \"\").split(\", \")"
   ]
  },
  {
   "cell_type": "code",
   "execution_count": 30,
   "id": "156db340-f1f8-4dc4-9b2c-ea17fa965d4b",
   "metadata": {},
   "outputs": [
    {
     "name": "stdout",
     "output_type": "stream",
     "text": [
      "Evaluation for Minecraft:\n",
      "NDCG@K: 0.36192870156163454\n",
      "MAP@K: 0.4122717676205239\n",
      "Recall@K: 0.2059394594566673\n"
     ]
    }
   ],
   "source": [
    "# Apply the safe parsing function\n",
    "top_100_games_genre['genre'] = top_100_games_genre['genre'].apply(safe_parse_genres)\n",
    "\n",
    "# Create a single string of genres for each game for vectorization\n",
    "top_100_games_genre['genres_joined'] = top_100_games_genre['genre'].apply(lambda x: ' '.join(x))\n",
    "\n",
    "# Convert genre descriptions into a count matrix\n",
    "vectorizer = CountVectorizer()\n",
    "genre_matrix = vectorizer.fit_transform(top_100_games_genre['genres_joined'])\n",
    "\n",
    "# Compute cosine similarity between all games\n",
    "cosine_sim = cosine_similarity(genre_matrix)\n",
    "\n",
    "# Find the index of 'Minecraft' in the dataset\n",
    "minecraft_index = top_100_games_genre[top_100_games_genre['game_name'].str.contains('Minecraft', case=False, na=False)].index[0]\n",
    "\n",
    "# Determine the number of relevant games based on a similarity threshold\n",
    "def determine_true_relevants(similarity_scores, threshold=0.5):\n",
    "    return np.sum(similarity_scores > threshold)\n",
    "\n",
    "# Function to evaluate recommendations for a given game using its index\n",
    "def evaluate_game_recommendations(game_index, top_k=5):\n",
    "    similarity_scores = cosine_sim[game_index]\n",
    "    true_relevants = determine_true_relevants(similarity_scores)\n",
    "    ndcg_score = ndcg_at_k(similarity_scores, top_k)\n",
    "    map_score = mean_average_precision([similarity_scores])\n",
    "    recall_score = recall_at_k(similarity_scores, top_k, true_relevants)\n",
    "    return ndcg_score, map_score, recall_score\n",
    "\n",
    "# Evaluate 'Minecraft'\n",
    "ndcg_score, map_score, recall_score = evaluate_game_recommendations(minecraft_index)\n",
    "print(f\"Evaluation for Minecraft:\")\n",
    "print(\"NDCG@K:\", ndcg_score)\n",
    "print(\"MAP@K:\", map_score)\n",
    "print(\"Recall@K:\", recall_score)"
   ]
  },
  {
   "cell_type": "markdown",
   "id": "d14fadc0-8af4-4de6-9933-25720dba22ee",
   "metadata": {},
   "source": [
    "The evaluation results for \"Minecraft\" based on the genre similarities show: </br>\n",
    "\n",
    "NDCG@K (Normalized Discounted Cumulative Gain): The score of 0.3619 suggests that the ranking quality of similar games to \"Minecraft\" is moderate. This metric values higher if top-ranked games are more relevant, implying there's room for improvement in how the recommendations are ranked.</br>\n",
    "MAP@K (Mean Average Precision at K): A score of 0.4123 indicates that, on average, the precision of the top K recommendations is just over 40%. This reflects the average proportion of relevant games among the top K retrieved, suggesting moderate accuracy in the recommendations.</br>\n",
    "Recall@K: The score of 0.2059 shows that about 20% of all relevant games were included in the top K recommendations. This implies that the system is capturing a small portion of all possible relevant games within the top recommendations.</br>"
   ]
  },
  {
   "cell_type": "markdown",
   "id": "516929b1-b325-4825-8274-e8d558d730f7",
   "metadata": {},
   "source": [
    "To implement broader testing and validation for your game recommender system, you'll want to ensure that it can effectively recommend games across a diverse array of genres and preferences. Here's a step-by-step guide to help you set up a comprehensive testing framework:"
   ]
  },
  {
   "cell_type": "markdown",
   "id": "0cbcb730-a9f2-4a4b-9b93-c9e574051ce5",
   "metadata": {},
   "source": [
    "1. Expand the Test Set: </br>\r\n",
    "Start by selecting a broader set of games from different genres to act as test cases. This ensures that the recommender is evaluated across a diverse spectrum of game types."
   ]
  },
  {
   "cell_type": "code",
   "execution_count": 31,
   "id": "4f33342a-b705-494c-b22c-07bdf5c013b3",
   "metadata": {},
   "outputs": [],
   "source": [
    "# Select games from various genres\n",
    "test_games = ['Minecraft', 'Fortnite', 'The Witcher 3', 'Stardew Valley', 'Call of Duty', 'Super Mario Odyssey']\n",
    "\n",
    "# Find indexes of these games in your dataset\n",
    "test_game_indexes = top_100_games_genre[top_100_games_genre['game_name'].isin(test_games)].index.tolist()"
   ]
  },
  {
   "cell_type": "markdown",
   "id": "f217206b-b9a4-4756-a94c-e603fce16e98",
   "metadata": {},
   "source": [
    "2. Simulate User Profiles: </br>\r\n",
    "Since you may not have actual user profiles, simulate a few profiles based on typical gaming preferences, which could be defined by favorite genres or specific games."
   ]
  },
  {
   "cell_type": "code",
   "execution_count": 32,
   "id": "d689bec1-0ffb-4903-897e-28d578e5b0fa",
   "metadata": {},
   "outputs": [],
   "source": [
    "# Example user profiles based on preferred genres\n",
    "user_profiles = {\n",
    "    'casual_gamer': ['Sandbox', 'Platformer', 'Simulation'],\n",
    "    'hardcore_gamer': ['Shooter', 'Strategy', 'RPG'],\n",
    "    'indie_lover': ['Indie', 'Adventure', 'Puzzle']\n",
    "}"
   ]
  },
  {
   "cell_type": "markdown",
   "id": "51873624-94b2-4641-97ca-e0881f5ce1f0",
   "metadata": {},
   "source": [
    "3. Evaluate Recommendations for Each User Profile: </br>\r\n",
    "For each user profile, compute the recommendations for their preferred games and evaluate how well these recommendations match the user's profile."
   ]
  },
  {
   "cell_type": "code",
   "execution_count": 33,
   "id": "dc4e359f-a428-47a2-9047-517fa460a64b",
   "metadata": {},
   "outputs": [
    {
     "name": "stdout",
     "output_type": "stream",
     "text": [
      "{'Fortnite': {'NDCG': 0.1971986746023656, 'MAP@K': 0.424050744692977, 'Recall@K': 0.08134445903611023, 'Preference Match': 0.0}, 'Minecraft': {'NDCG': 0.36192870156163454, 'MAP@K': 0.4122717676205239, 'Recall@K': 0.2059394594566673, 'Preference Match': 0.0}, 'Stardew Valley': {'NDCG': 0.4211642000698905, 'MAP@K': 0.6722488830230997, 'Recall@K': 0.04760532536573489, 'Preference Match': 0.0}, 'Call of Duty': {'NDCG': 0.1971986746023656, 'MAP@K': 0.424050744692977, 'Recall@K': 0.08134445903611023, 'Preference Match': 0.0}}\n"
     ]
    }
   ],
   "source": [
    "from sklearn.metrics import accuracy_score\n",
    "\n",
    "# Function to simulate recommendations for user profiles\n",
    "def simulate_user_recommendations(user_profile, test_game_indexes):\n",
    "    user_genre_preferences = user_profiles[user_profile]\n",
    "    evaluations = {}\n",
    "    \n",
    "    for game_idx in test_game_indexes:\n",
    "        game_name = top_100_games_genre.loc[game_idx, 'game_name']\n",
    "        ndcg, map_k, recall = evaluate_game_recommendations(game_idx)\n",
    "        # Assess if the recommended genres match the user's preferences\n",
    "        recommended_genres = set(' '.join(top_100_games_genre.loc[game_idx, 'genres_joined'].split()))\n",
    "        preference_match = len(recommended_genres.intersection(user_genre_preferences)) / len(user_genre_preferences)\n",
    "        evaluations[game_name] = {'NDCG': ndcg, 'MAP@K': map_k, 'Recall@K': recall, 'Preference Match': preference_match}\n",
    "    \n",
    "    return evaluations\n",
    "\n",
    "# Test for a casual gamer\n",
    "casual_gamer_evaluations = simulate_user_recommendations('casual_gamer', test_game_indexes)\n",
    "print(casual_gamer_evaluations)"
   ]
  },
  {
   "cell_type": "markdown",
   "id": "4fd85ceb-1971-43e9-801c-19db17d6d750",
   "metadata": {},
   "source": [
    "4. Aggregate Results and Analyze: </br>\r\n",
    "Aggregate the results from all simulated user profiles and analyze the metrics to determine patterns, strengths, and weaknesses in the recommendations."
   ]
  },
  {
   "cell_type": "code",
   "execution_count": 34,
   "id": "6d662a8f-8732-4f95-81ac-4462cd343af1",
   "metadata": {},
   "outputs": [
    {
     "name": "stdout",
     "output_type": "stream",
     "text": [
      "Average NDCG for casual_gamer: 0.29\n",
      "Average NDCG for hardcore_gamer: 0.29\n",
      "Average NDCG for indie_lover: 0.29\n"
     ]
    }
   ],
   "source": [
    "# Combine results from different profiles for a comprehensive analysis\n",
    "profiles = ['casual_gamer', 'hardcore_gamer', 'indie_lover']\n",
    "all_evaluations = {profile: simulate_user_recommendations(profile, test_game_indexes) for profile in profiles}\n",
    "\n",
    "# Example analysis\n",
    "for profile, evaluations in all_evaluations.items():\n",
    "    average_ndcg = np.mean([evals['NDCG'] for evals in evaluations.values()])\n",
    "    print(f\"Average NDCG for {profile}: {average_ndcg:.2f}\")"
   ]
  },
  {
   "cell_type": "markdown",
   "id": "c90c8e74-d785-4e44-95df-30d28a032eb5",
   "metadata": {},
   "source": [
    "The consistent Average NDCG score of 0.29 across all user profiles indicates a few key points and areas for improvement:</br>\n",
    "\n",
    "Insights: </br>\n",
    "Uniform Performance Across Profiles: The uniformity in scores suggests that your recommender system is treating different user profiles similarly, without significant differentiation based on genre preferences. This could mean that the system might not be effectively tailoring recommendations to fit distinct user preferences, or that the genre overlap method used in the similarity calculation is too broad.</br>\n",
    "Moderate Recommendation Quality: An NDCG score of 0.29 is on the lower side, indicating that the recommendations are not highly relevant from the user's perspective, especially considering their genre preferences.</br> names."
   ]
  },
  {
   "cell_type": "markdown",
   "id": "ae4ed245-be00-405b-a4d2-bc45803aae3c",
   "metadata": {},
   "source": [
    "To enhance the personalization of our recommender system based on user profiles and improve the overall relevance of recommendations, we can adjust the weight of genre preferences in the similarity calculations. Creating a hybrid approach that modifies the weight according to user preferences and adjusts the threshold dynamically. Below is a revised code snippet incorporating these ideas:"
   ]
  },
  {
   "cell_type": "code",
   "execution_count": 38,
   "id": "93b91830-e126-4c94-b61d-d607fbd4404e",
   "metadata": {},
   "outputs": [],
   "source": [
    "import pandas as pd\n",
    "import numpy as np\n",
    "from sklearn.feature_extraction.text import CountVectorizer\n",
    "from sklearn.metrics.pairwise import cosine_similarity\n",
    "from sklearn.preprocessing import normalize\n",
    "import ast\n",
    "\n",
    "\n",
    "# Function to parse genres safely\n",
    "def parse_genres(data):\n",
    "    def safe_parse(item):\n",
    "        if isinstance(item, list):\n",
    "            return item\n",
    "        try:\n",
    "            return ast.literal_eval(item)\n",
    "        except:\n",
    "            return item.strip(\"[]\").replace(\"'\", \"\").split(\", \")\n",
    "    return data.apply(safe_parse)\n",
    "\n",
    "# Preprocess genres\n",
    "top_100_games_genre['genre'] = parse_genres(top_100_games_genre['genre'])\n",
    "top_100_games_genre['genres_joined'] = top_100_games_genre['genre'].apply(lambda x: ' '.join(x))"
   ]
  },
  {
   "cell_type": "code",
   "execution_count": 39,
   "id": "746e27b5-b2b3-4afb-be95-c33223f40ec4",
   "metadata": {},
   "outputs": [
    {
     "name": "stdout",
     "output_type": "stream",
     "text": [
      "Results for casual_gamer:\n",
      "Minecraft: {'NDCG': 0.36192870156163437, 'MAP@K': 0.4122717676205239, 'Recall@K': 0.041187891891333456}\n",
      "Fortnite: {'NDCG': 0.1971986746023656, 'MAP@K': 0.424050744692977, 'Recall@K': 0.05422963935740682}\n",
      "The Witcher 3: Game not found in dataset\n",
      "Stardew Valley: {'NDCG': 0.4211642000698905, 'MAP@K': 0.6722488830230997, 'Recall@K': 0.08268293352996062}\n",
      "Call of Duty: {'NDCG': 0.1971986746023656, 'MAP@K': 0.424050744692977, 'Recall@K': 0.05422963935740682}\n",
      "Super Mario Odyssey: Game not found in dataset\n",
      "Results for hardcore_gamer:\n",
      "Minecraft: {'NDCG': 0.36192870156163437, 'MAP@K': 0.4122717676205239, 'Recall@K': 0.041187891891333456}\n",
      "Fortnite: {'NDCG': 0.1971986746023656, 'MAP@K': 0.424050744692977, 'Recall@K': 0.05422963935740682}\n",
      "The Witcher 3: Game not found in dataset\n",
      "Stardew Valley: {'NDCG': 0.4211642000698905, 'MAP@K': 0.6722488830230997, 'Recall@K': 0.08268293352996062}\n",
      "Call of Duty: {'NDCG': 0.1971986746023656, 'MAP@K': 0.424050744692977, 'Recall@K': 0.05422963935740682}\n",
      "Super Mario Odyssey: Game not found in dataset\n",
      "Results for indie_lover:\n",
      "Minecraft: {'NDCG': 0.36192870156163437, 'MAP@K': 0.4122717676205239, 'Recall@K': 0.041187891891333456}\n",
      "Fortnite: {'NDCG': 0.1971986746023656, 'MAP@K': 0.424050744692977, 'Recall@K': 0.05422963935740682}\n",
      "The Witcher 3: Game not found in dataset\n",
      "Stardew Valley: {'NDCG': 0.4211642000698905, 'MAP@K': 0.6722488830230997, 'Recall@K': 0.08268293352996062}\n",
      "Call of Duty: {'NDCG': 0.1971986746023656, 'MAP@K': 0.424050744692977, 'Recall@K': 0.05422963935740682}\n",
      "Super Mario Odyssey: Game not found in dataset\n"
     ]
    }
   ],
   "source": [
    "# Create the genre matrix\n",
    "vectorizer = CountVectorizer()\n",
    "genre_matrix = vectorizer.fit_transform(top_100_games_genre['genres_joined'])\n",
    "genre_names = vectorizer.get_feature_names_out()\n",
    "\n",
    "# Calculate cosine similarity\n",
    "cosine_sim = cosine_similarity(genre_matrix)\n",
    "\n",
    "# Function to enhance personalization by adjusting genre weights based on user profiles\n",
    "def adjust_genre_weights(user_profile, user_profiles):\n",
    "    profile_genres = user_profiles[user_profile]\n",
    "    genre_weights = np.array([1 if genre in profile_genres else 0.1 for genre in genre_names])  # Higher weight for preferred genres\n",
    "    weighted_genre_matrix = normalize(genre_matrix.multiply(genre_weights))  # Weighting and normalizing the genre matrix\n",
    "    return cosine_similarity(weighted_genre_matrix)  # Recompute similarity\n",
    "\n",
    "# Function to evaluate recommendations for each game based on user profiles\n",
    "def evaluate_recommendations(user_profile, test_games, user_profiles):\n",
    "    adjusted_sim = adjust_genre_weights(user_profile, user_profiles)\n",
    "    evaluations = {}\n",
    "    for game in test_games:\n",
    "        game_df = top_100_games_genre[top_100_games_genre['game_name'].str.contains(game, case=False, na=False)]\n",
    "        if not game_df.empty:\n",
    "            game_index = game_df.index[0]\n",
    "            scores = adjusted_sim[game_index]\n",
    "            evaluations[game] = {\n",
    "                'NDCG': ndcg_at_k(scores, 5),\n",
    "                'MAP@K': mean_average_precision([scores]),\n",
    "                'Recall@K': recall_at_k(scores, 5, sum(scores > np.percentile(scores, 75)))  # Dynamic threshold at 75th percentile\n",
    "            }\n",
    "        else:\n",
    "            evaluations[game] = \"Game not found in dataset\"\n",
    "    return evaluations\n",
    "\n",
    "# Test games\n",
    "test_games = ['Minecraft', 'Fortnite', 'The Witcher 3', 'Stardew Valley', 'Call of Duty', 'Super Mario Odyssey']\n",
    "\n",
    "# Perform evaluation for each user profile\n",
    "results = {}\n",
    "for profile in user_profiles:\n",
    "    results[profile] = evaluate_recommendations(profile, test_games, user_profiles)\n",
    "\n",
    "# Output results\n",
    "for profile, evaluations in results.items():\n",
    "    print(f\"Results for {profile}:\")\n",
    "    for game, metrics in evaluations.items():\n",
    "        print(f\"{game}: {metrics}\")"
   ]
  },
  {
   "cell_type": "markdown",
   "id": "a36d01d9-5ee3-42f4-9632-ce935c583d77",
   "metadata": {},
   "source": [
    "From what we can see, the performance of our recommender system varies across different games, with some like \"Stardew Valley\" achieving notably better scores, particularly in terms of MAP@K. Meanwhile, some popular games like \"The Witcher 3\" and \"Super Mario Odyssey\" were not found in the dataset, which could limit the thoroughness of your evaluations.\n",
    "\n",
    "Observations:\n",
    "Performance Variation:\n",
    "\"Stardew Valley\" shows relatively high scores, suggesting that the system might be more effective in recommending games with similar characteristics or genres represented well in our dataset.\n",
    "\"Minecraft\", \"Fortnite\", and \"Call of Duty\" show consistent but moderate to low scores across all profiles, suggesting that these games' recommendations could be improved.\n",
    "Games Not Found:\n",
    "The absence of \"The Witcher 3\" and \"Super Mario Odyssey\" indicates either a gap in the dataset or that the search criteria might be too strict or incorrect due to case sensitivity or partial names."
   ]
  },
  {
   "cell_type": "code",
   "execution_count": null,
   "id": "30eda3ac-3fdd-4d5b-b8e2-6d6165cbb849",
   "metadata": {},
   "outputs": [],
   "source": []
  },
  {
   "cell_type": "markdown",
   "id": "b0a373af-8b37-4ca0-96c5-f5c4dcaf431b",
   "metadata": {},
   "source": [
    "# Experiment report:"
   ]
  },
  {
   "cell_type": "markdown",
   "id": "0f421b74-1dd1-482c-a70e-d79167dec3e5",
   "metadata": {},
   "source": [
    "### Initial Setup and Data Preparation: </br>\n",
    "- Data Loading: Loaded datasets including top 100 games by genre, top 100 games, and top streamers. We ensured data integrity and initial exploration to understand the structure. </br>\n",
    "- Data Cleaning and Preprocessing: Addressed missing values and converted data types where necessary, such as converting genres from string representations to lists. </br>\n",
    "### Clustering and Dimensionality Reduction: </br>\n",
    "- K-means Clustering: Applied to viewer_count with the aim of segmenting streamers. The Elbow Method was used to determine the optimal number of clusters. Initial clustering provided limited insights due to a concentration of streamers in a single cluster. </br>\n",
    "- Gaussian Mixture Model (GMM): Similar to K-means, GMM was used but also resulted in a single dominant cluster, indicating the need for additional features or a different approach. </br>\n",
    "- Multi-Feature Clustering: Included additional categorical features and used TruncatedSVD for dimensionality reduction, leading to a more nuanced clustering but still not entirely satisfactory in differentiating streamer groups. </br>\n",
    "### Recommendation Systems Development: </br>\n",
    "- Content-Based Recommender for Games: Built using game genres, initially tested with \"Just Chatting\" and later with \"Minecraft\" for appropriateness.</br>\n",
    "- This system successfully recommended games based on genre similarity.</br>\n",
    "- Streamer Recommendations Based on Combined Features: Developed a content-based system for streamers, combining game and tag data. This method encountered parsing issues initially, which were resolved by adjusting the data handling strategy. </br>\n",
    "### Evaluation Metrics Implementation: </br>\n",
    "- Metrics Calculation: Implemented NDCG, MAP@K, and Recall@K to evaluate the recommendation quality. Initial scores were moderate, indicating room for improvement in ranking and relevance. </br>\n",
    "### Advanced Personalization and Dynamic Adjustment: </br>\n",
    "- Personalized Weighting: Adjusted genre weights based on simulated user profiles (casual, hardcore, indie lovers) to personalize recommendations. This approach intended to reflect user preferences more accurately in the recommendation process. </br>\n",
    "- Dynamic Thresholding: Implemented to determine relevance dynamically based on the distribution of similarity scores, aiming to be more adaptive to the data. </br>\n",
    "### Challenges and Adjustments: </br>\n",
    "- Handling Data Variability: Faced issues with the robustness of data parsing functions, which were resolved by creating more flexible parsing mechanisms. </br>\n",
    "- Games Not Found: Some popular games were not detected in the dataset during evaluations, leading to adjustments in search criteria for better inclusiveness. </br>\n",
    "### Insights and Further Steps: </br>\n",
    "- The system's consistent but moderate performance across different profiles suggests that while the recommender can identify relevant items, the differentiation based on user-specific preferences could be improved. </br>\n",
    "- Regular updates and integration of user feedback are suggested to continually refine the system.\n",
    "### Concluding Thoughts </br>\n",
    "- Through these experiments, we have iteratively developed and refined a game recommendation system that integrates user preferences and evaluates its performance through advanced metrics. Each step, from data preprocessing to complex personalized recommendations, was aimed at enhancing the system's accuracy and user satisfaction. Future efforts should focus on integrating more user data, testing with actual user feedback, and continuously adapting the system to new games and user behaviors."
   ]
  },
  {
   "cell_type": "code",
   "execution_count": null,
   "id": "ee725f20-8a2c-4f5b-99b2-98987574f20e",
   "metadata": {},
   "outputs": [],
   "source": []
  }
 ],
 "metadata": {
  "kernelspec": {
   "display_name": "Python 3 (ipykernel)",
   "language": "python",
   "name": "python3"
  },
  "language_info": {
   "codemirror_mode": {
    "name": "ipython",
    "version": 3
   },
   "file_extension": ".py",
   "mimetype": "text/x-python",
   "name": "python",
   "nbconvert_exporter": "python",
   "pygments_lexer": "ipython3",
   "version": "3.8.2"
  }
 },
 "nbformat": 4,
 "nbformat_minor": 5
}
